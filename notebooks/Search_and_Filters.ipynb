{
 "cells": [
  {
   "cell_type": "markdown",
   "id": "7a094d66-b40a-47a6-9bd5-40f81d520874",
   "metadata": {},
   "source": [
    "## Prepare RAFS API Client"
   ]
  },
  {
   "cell_type": "code",
   "execution_count": null,
   "id": "3a8005b0-6f39-49ca-a36a-1d2289549415",
   "metadata": {},
   "outputs": [],
   "source": [
    "import json\n",
    "import os\n",
    "import sys\n",
    "from pprint import pprint\n",
    "from utils import print_json\n",
    "\n",
    "from dotenv import dotenv_values\n",
    "\n",
    "sys.path.append(\"..\")\n",
    "\n",
    "from client.api.settings import ApiClientSettings \n",
    "from client.api_client import APIClient\n",
    "from utils import print_json, load_wpc_payload\n",
    "\n",
    "conf = dotenv_values(\"./demo.env\")\n",
    "\n",
    "api_client_dev = APIClient(\n",
    "    conf[\"osdu_host\"],\n",
    "    \"dev\",\n",
    "    conf[\"url_prefix\"],\n",
    "    conf[\"data_partition_id\"],\n",
    "    conf[\"access_token\"],\n",
    ")"
   ]
  },
  {
   "cell_type": "markdown",
   "id": "b27fc3a6-38c0-46c1-9f52-acb6fa0472bc",
   "metadata": {},
   "source": [
    "## Dev Search Endpoints"
   ]
  },
  {
   "cell_type": "markdown",
   "id": "149eb977-b59d-4f70-8f98-3217c9a72e30",
   "metadata": {},
   "source": [
    "/api/rafs-ddms/dev/samplesanalysis/{analysis_type}/search\n",
    "\n",
    "/api/rafs-ddms/dev/samplesanalysis/{analysis_type}/search/data\n",
    "\n"
   ]
  },
  {
   "cell_type": "markdown",
   "id": "1771bd55-a62a-4864-9c12-e651b4fddc7f",
   "metadata": {},
   "source": [
    "### Search all RoutineCoreAnalysis, MultiStageSeparator, and NMR tests"
   ]
  },
  {
   "cell_type": "code",
   "execution_count": null,
   "id": "366b847e-306f-4a2d-9860-b13951ed4459",
   "metadata": {},
   "outputs": [],
   "source": [
    "headers = {\"Accept\": \"*/*;version=1.0.0\", \"Content-Type\": \"application/json\"}\n",
    "\n",
    "analysis_types = [\"routinecoreanalysis\", \"multistageseparator\", \"nmr\"]\n",
    "\n",
    "for analysis_type in analysis_types:\n",
    "    search_response = api_client_dev.get(f\"/samplesanalysis/{analysis_type}/search\", headers=headers)\n",
    "    print_json(search_response.json(), title=analysis_type)"
   ]
  },
  {
   "cell_type": "markdown",
   "id": "6fe0edad-5440-4ace-950f-d565db0a67dc",
   "metadata": {},
   "source": [
    "### Search NMR tests data"
   ]
  },
  {
   "cell_type": "code",
   "execution_count": null,
   "id": "027c9a45-d55a-46de-931b-8abe42f0f1a2",
   "metadata": {},
   "outputs": [],
   "source": [
    "headers = {\"Accept\": \"*/*;version=1.0.0\", \"Content-Type\": \"application/json\"}\n",
    "params = {\"offset\": 0, \"page_limit\": 100}\n",
    "\n",
    "search_response = api_client_dev.get(\"/samplesanalysis/nmr/search/data\", headers=headers, params=params)\n",
    "\n",
    "print_json(search_response.json())"
   ]
  },
  {
   "cell_type": "markdown",
   "id": "2793c3e7-32df-4616-a553-8d3438ebdd9b",
   "metadata": {},
   "source": [
    "### Search MultiStageSeparator tests data"
   ]
  },
  {
   "cell_type": "code",
   "execution_count": null,
   "id": "d89eaf6e-a0e0-4754-b384-dc6829f42cab",
   "metadata": {},
   "outputs": [],
   "source": [
    "headers = {\"Accept\": \"*/*;version=1.0.0\", \"Content-Type\": \"application/json\"}\n",
    "params = {\"offset\": 100, \"page_limit\": 2}\n",
    "\n",
    "search_response = api_client_dev.get(\"/samplesanalysis/multistageseparator/search/data\", headers=headers, params=params)\n",
    "\n",
    "print_json(search_response.json())"
   ]
  },
  {
   "cell_type": "markdown",
   "id": "b12d29e5-9dc8-436e-9ebb-43733dfd9e21",
   "metadata": {},
   "source": [
    "## Filters & Aggregation"
   ]
  },
  {
   "cell_type": "code",
   "execution_count": null,
   "id": "164d53e5-a934-446d-8ef4-d92ba6ad4de6",
   "metadata": {},
   "outputs": [],
   "source": [
    "# Formats\n",
    "columsn_filter = [\"ColumnNameA\", \"ColumnNameB\"]\n",
    "columns_aggregation = [\"PropertyName\", \"aggregation_function\"]\n",
    "rows_filter = {\"PropertyName\": {\"operator\": \"value\"}}\n",
    "rows_multiple_filter = {\"logical-operator\": [{\"PropertyName\": {\"operator\": \"value\"}}]}\n",
    "\n",
    "# Comparison Operators\n",
    "[\"$lt\", \"$gt\", \"$lte\", \"$gte\", \"$eq\", \"$neq\"]\n",
    "\n",
    "# Logical Operators\n",
    "[\"$and\", \"$or\"]\n",
    "\n",
    "# Aggregation functions\n",
    "[\"mean\", \"count\", \"max\", \"min\", \"sum\", \"describe\"]\n",
    "\n",
    "print()"
   ]
  },
  {
   "cell_type": "markdown",
   "id": "aee2bca9-6e37-4957-8a33-6207250ff988",
   "metadata": {},
   "source": [
    "### Aggregation on NMR data"
   ]
  },
  {
   "cell_type": "code",
   "execution_count": null,
   "id": "eefc7ce8-7a67-4dd7-a031-ef37db7ed82d",
   "metadata": {},
   "outputs": [],
   "source": [
    "nmr_columns_aggregation_1 = '[\"NMRTest.NMRTestSteps.CumulativeWaterSaturation.Value\", \"sum\"]'\n",
    "nmr_columns_aggregation_2 = '[\"NMRTest.NMRSummaryData.Permeability.Value\", \"mean\"]'\n",
    "\n",
    "headers = {\"Accept\": \"*/*;version=1.0.0\", \"Content-Type\": \"application/json\"}\n",
    "\n",
    "params = {\"columns_aggregation\": nmr_columns_aggregation_1}\n",
    "search_response_1 = api_client_dev.get(\"/samplesanalysis/nmr/search/data\", headers=headers, params=params)\n",
    "\n",
    "print_json(search_response_1.json())\n",
    "\n",
    "params = {\"columns_aggregation\": nmr_columns_aggregation_2}\n",
    "search_response_1 = api_client_dev.get(\"/samplesanalysis/nmr/search/data\", headers=headers, params=params)\n",
    "\n",
    "print_json(search_response_1.json())"
   ]
  },
  {
   "cell_type": "markdown",
   "id": "2c36f7e0-92c8-4597-ab78-fc5a5d2a6487",
   "metadata": {},
   "source": [
    "### Rows Filter on NMR data"
   ]
  },
  {
   "cell_type": "code",
   "execution_count": null,
   "id": "0161cdb8-97b3-44d3-ad48-a9448ed228b1",
   "metadata": {},
   "outputs": [],
   "source": [
    "headers = {\"Accept\": \"*/*;version=1.0.0\", \"Content-Type\": \"application/json\"}\n",
    "\n",
    "rows_filter_nmr_1 = '''\n",
    "{\n",
    "    \"NMRTest.NMRSummaryData.EchoSpacing.Value\": {\"$neq\": 0.2}\n",
    "}\n",
    "'''\n",
    "params = {\"rows_filter\": rows_filter_nmr_1}\n",
    "\n",
    "search_response = api_client_dev.get(\"/samplesanalysis/nmr/search/data\", headers=headers, params=params)\n",
    "\n",
    "print_json(search_response.json())"
   ]
  },
  {
   "cell_type": "code",
   "execution_count": null,
   "id": "0597cb89-d7e6-46b5-bcd5-4f42aa396b49",
   "metadata": {},
   "outputs": [],
   "source": [
    "headers = {\"Accept\": \"*/*;version=1.0.0\", \"Content-Type\": \"application/json\"}\n",
    "\n",
    "rows_filter_nmr_2 = '''\n",
    "{\n",
    "    \"NMRTest.NMRSummaryData.Permeability.Value\": {\"$eq\": 4740}\n",
    "}\n",
    "'''\n",
    "params = {\"rows_filter\": rows_filter_nmr_2}\n",
    "\n",
    "search_response = api_client_dev.get(\"/samplesanalysis/nmr/search/data\", headers=headers, params=params)\n",
    "\n",
    "print_json(search_response.json())"
   ]
  },
  {
   "cell_type": "code",
   "execution_count": null,
   "id": "2e605556-610a-4fa2-82e5-2640f915bcbb",
   "metadata": {},
   "outputs": [],
   "source": [
    "headers = {\"Accept\": \"*/*;version=1.0.0\", \"Content-Type\": \"application/json\"}\n",
    "\n",
    "rows_multiple_filter_nmr = '''\n",
    "{\n",
    "    \"$and\": [\n",
    "        {\n",
    "            \"$or\": [\n",
    "                {\n",
    "                    \"$or\": [\n",
    "                        {\n",
    "                            \"SamplesAnalysisID\": {\"$eq\": \"opendes:work-product-component--SamplesAnalysis:469fdbf6482b4f3fab6eb9400d982fb4:\"}\n",
    "                        }\n",
    "                    ]\n",
    "                }, \n",
    "                {\n",
    "                    \"SamplesAnalysisID\": {\"$eq\": \"opendes:work-product-component--SamplesAnalysis:55dce95b591346b39c2c684841ba9705:\"}\n",
    "                }\n",
    "            ]\n",
    "        }, \n",
    "        {\n",
    "            \"SamplesAnalysisID\": {\"$eq\": \"opendes:work-product-component--SamplesAnalysis:469fdbf6482b4f3fab6eb9400d982fb4:\"}\n",
    "        }, \n",
    "        {\n",
    "            \"NMRTest.NMRTestSteps.T2FullySaturated.Value\": {\"$eq\": 1259.0}\n",
    "        }\n",
    "    ]\n",
    "}\n",
    "'''\n",
    "params = {\"rows_multiple_filter\": rows_multiple_filter_nmr}\n",
    "\n",
    "search_response = api_client_dev.get(\"/samplesanalysis/nmr/search/data\", headers=headers, params=params)\n",
    "\n",
    "print_json(search_response.json())"
   ]
  },
  {
   "cell_type": "markdown",
   "id": "dd1e005b-1318-4208-abc8-4a7687a8f7d9",
   "metadata": {},
   "source": [
    "### Aggregation on MSS data"
   ]
  },
  {
   "cell_type": "code",
   "execution_count": null,
   "id": "1994a6b7-b823-4169-adbf-a0c0afa89486",
   "metadata": {},
   "outputs": [],
   "source": [
    "mss_columns_aggregation_1 = '[\"MultiStageSeparatorTestData.GasFormationVolumeFactor.Value\", \"describe\"]'\n",
    "mss_columns_aggregation_2 = '[\"CalculatedProperties.LiquidCalculatedProperties.FlashedLiquidDensity.Value\", \"sum\"]'\n",
    "\n",
    "headers = {\"Accept\": \"*/*;version=1.0.0\", \"Content-Type\": \"application/json\"}\n",
    "\n",
    "params = {\"columns_aggregation\": mss_columns_aggregation_1}\n",
    "search_response_1 = api_client_dev.get(\"/samplesanalysis/multistageseparator/search/data\", headers=headers, params=params)\n",
    "\n",
    "print_json(search_response_1.json())\n",
    "\n",
    "params = {\"columns_aggregation\": mss_columns_aggregation_2}\n",
    "search_response_1 = api_client_dev.get(\"/samplesanalysis/multistageseparator/search/data\", headers=headers, params=params)\n",
    "\n",
    "print_json(search_response_1.json())"
   ]
  },
  {
   "cell_type": "markdown",
   "id": "f3ed1e88-7418-4a35-8eaf-70c752146d77",
   "metadata": {},
   "source": [
    "### Rows Filters on MSS data"
   ]
  },
  {
   "cell_type": "code",
   "execution_count": null,
   "id": "25f001a2-1513-4f1e-a19d-e6fc139c5d1f",
   "metadata": {},
   "outputs": [],
   "source": [
    "headers = {\"Accept\": \"*/*;version=1.0.0\", \"Content-Type\": \"application/json\"}\n",
    "\n",
    "rows_filter_mss_1 = '''\n",
    "{\n",
    "    \"CalculatedProperties.LiquidCalculatedProperties.FlashedLiquidDensity.Value\": {\"$neq\": 5}\n",
    "}\n",
    "'''\n",
    "params = {\"rows_filter\": rows_filter_mss_1}\n",
    "\n",
    "search_response = api_client_dev.get(\"/samplesanalysis/multistageseparator/search/data\", headers=headers, params=params)\n",
    "\n",
    "print_json(search_response.json())"
   ]
  },
  {
   "cell_type": "code",
   "execution_count": null,
   "id": "52860e59-34a1-48d6-b5af-1d08c11199b5",
   "metadata": {},
   "outputs": [],
   "source": [
    "headers = {\"Accept\": \"*/*;version=1.0.0\", \"Content-Type\": \"application/json\"}\n",
    "\n",
    "rows_filter_mss_2 = '''\n",
    "{\n",
    "    \"LiquidCompositionalAnalysis.FlashedGasRelativeMass.Value\": {\"$eq\": 0.8}\n",
    "}\n",
    "'''\n",
    "params = {\"rows_filter\": rows_filter_mss_2}\n",
    "\n",
    "search_response = api_client_dev.get(\"/samplesanalysis/multistageseparator/search/data\", headers=headers, params=params)\n",
    "\n",
    "print_json(search_response.json())"
   ]
  },
  {
   "cell_type": "code",
   "execution_count": null,
   "id": "5946b7a8-a8c7-4959-b2d7-f2b84d93ed5b",
   "metadata": {},
   "outputs": [],
   "source": [
    "headers = {\"Accept\": \"*/*;version=1.0.0\", \"Content-Type\": \"application/json\"}\n",
    "\n",
    "rows_multiple_filter_mss ='''\n",
    "{\n",
    "    \"$and\": [\n",
    "        {\n",
    "            \"SaturationPressure.Value\": {\"$gt\": 950}\n",
    "        }, \n",
    "        {\n",
    "            \"ReservoirPressure.Value\": {\"$lt\": 500}\n",
    "        }\n",
    "    ]\n",
    "}\n",
    "'''\n",
    "params = {\"rows_multiple_filter\": rows_multiple_filter_mss}\n",
    "\n",
    "search_response = api_client_dev.get(\"/samplesanalysis/multistageseparator/search/data\", headers=headers, params=params)\n",
    "\n",
    "print_json(search_response.json())"
   ]
  },
  {
   "cell_type": "code",
   "execution_count": null,
   "id": "dba9b413-a4e3-4b03-9443-2f0d35042a79",
   "metadata": {},
   "outputs": [],
   "source": [
    "headers = {\"Accept\": \"*/*;version=1.0.0\", \"Content-Type\": \"application/json\"}\n",
    "\n",
    "rows_multiple_filter_mss ='''\n",
    "{\n",
    "    \"$and\": [\n",
    "        {\n",
    "            \"SaturationPressure.Value\": {\"$gt\": 950}\n",
    "        }, \n",
    "        {\n",
    "            \"ReservoirPressure.Value\": {\"$lt\": 500}\n",
    "        }\n",
    "    ]\n",
    "}\n",
    "'''\n",
    "mss_columns_aggregation_2 = '[\"CalculatedProperties.LiquidCalculatedProperties.FlashedLiquidDensity.Value\", \"sum\"]'\n",
    "params = {\"rows_multiple_filter\": rows_multiple_filter_mss, \"columns_aggregation\": mss_columns_aggregation_2}\n",
    "\n",
    "search_response = api_client_dev.get(\"/samplesanalysis/multistageseparator/search/data\", headers=headers, params=params)\n",
    "\n",
    "print_json(search_response.json())"
   ]
  },
  {
   "cell_type": "code",
   "execution_count": null,
   "id": "cff838cd-4158-48b9-90da-4537c4e8c6d3",
   "metadata": {},
   "outputs": [],
   "source": []
  }
 ],
 "metadata": {
  "kernelspec": {
   "display_name": "Python 3 (ipykernel)",
   "language": "python",
   "name": "python3"
  },
  "language_info": {
   "codemirror_mode": {
    "name": "ipython",
    "version": 3
   },
   "file_extension": ".py",
   "mimetype": "text/x-python",
   "name": "python",
   "nbconvert_exporter": "python",
   "pygments_lexer": "ipython3",
   "version": "3.11.9"
  }
 },
 "nbformat": 4,
 "nbformat_minor": 5
}
