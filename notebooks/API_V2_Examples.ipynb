{
 "cells": [
  {
   "cell_type": "markdown",
   "id": "7a094d66-b40a-47a6-9bd5-40f81d520874",
   "metadata": {},
   "source": [
    "## Prepare RAFS API Client"
   ]
  },
  {
   "cell_type": "code",
   "execution_count": null,
   "id": "3a8005b0-6f39-49ca-a36a-1d2289549415",
   "metadata": {},
   "outputs": [],
   "source": [
    "import json\n",
    "import os\n",
    "import sys\n",
    "from pprint import pprint\n",
    "\n",
    "from dotenv import dotenv_values\n",
    "\n",
    "sys.path.append(\"..\")\n",
    "\n",
    "from client.api.settings import ApiClientSettings \n",
    "from client.api_client import APIClient\n",
    "from utils import print_json, load_wpc_payload\n",
    "\n",
    "conf = dotenv_values(\"./demo.env\")\n",
    "\n",
    "api_client = APIClient(\n",
    "    conf[\"osdu_host\"],\n",
    "    conf[\"version\"],\n",
    "    conf[\"url_prefix\"],\n",
    "    conf[\"data_partition_id\"],\n",
    "    conf[\"access_token\"],\n",
    ")\n"
   ]
  },
  {
   "cell_type": "markdown",
   "id": "9823afad-d239-4b14-92ec-b29f86c4a3e5",
   "metadata": {},
   "source": [
    "## Load MasterData and WorkProductComponent Payloads"
   ]
  },
  {
   "cell_type": "code",
   "execution_count": null,
   "id": "d4ccfd08-ef03-48ee-b19a-4f91ee11a037",
   "metadata": {},
   "outputs": [],
   "source": [
    "master_data = load_wpc_payload(\"md_payloads/master_data.json\", conf)\n",
    "\n",
    "print_json(master_data[0][\"id\"])\n",
    "print_json(master_data[1][\"id\"])\n",
    "print_json(master_data[2][\"id\"])\n",
    "print_json(master_data[3][\"id\"])\n",
    "print_json(master_data[4][\"id\"])\n",
    "print_json(master_data[5][\"id\"])"
   ]
  },
  {
   "cell_type": "code",
   "execution_count": null,
   "id": "6fcc7edb-50b4-4484-9278-eb87153cbdf9",
   "metadata": {},
   "outputs": [],
   "source": [
    "samples_analyses_report_wpc = load_wpc_payload(\"wpc_payloads/samples_analyses_report.json\", conf)\n",
    "\n",
    "print_json(samples_analyses_report_wpc[0][\"id\"])"
   ]
  },
  {
   "cell_type": "code",
   "execution_count": null,
   "id": "5bdda839-ac75-435a-b4ed-cbc41154691c",
   "metadata": {},
   "outputs": [],
   "source": [
    "samples_analysis = load_wpc_payload(\"wpc_payloads/samples_analysis.json\", conf)\n",
    "\n",
    "print_json(samples_analysis[0][\"id\"])\n",
    "print_json(samples_analysis[1][\"id\"])\n",
    "print_json(samples_analysis[2][\"id\"])\n",
    "print_json(samples_analysis[3][\"id\"])"
   ]
  },
  {
   "cell_type": "markdown",
   "id": "1f724400-0423-4ab1-91be-928588d36372",
   "metadata": {},
   "source": [
    "## POST MasterData"
   ]
  },
  {
   "cell_type": "code",
   "execution_count": null,
   "id": "a50540e4-cc84-4101-a4c1-79aec000a3ad",
   "metadata": {},
   "outputs": [],
   "source": [
    "md_response = api_client.post(\"/masterdata\", json=master_data)\n",
    "\n",
    "pprint(md_response.json())"
   ]
  },
  {
   "cell_type": "markdown",
   "id": "f257bdf1-306f-454f-bbc6-4874de5a3648",
   "metadata": {},
   "source": [
    "## POST SamplesAnalysesReport"
   ]
  },
  {
   "cell_type": "code",
   "execution_count": null,
   "id": "7bef795c-e0a5-4b20-b5f1-4514822f4131",
   "metadata": {},
   "outputs": [],
   "source": [
    "sar_response = api_client.post(\"/samplesanalysesreport\", json=samples_analyses_report_wpc)\n",
    "\n",
    "pprint(sar_response.json())"
   ]
  },
  {
   "cell_type": "markdown",
   "id": "feae640e-a7e7-4e91-8141-c18a74de267f",
   "metadata": {},
   "source": [
    "## POST SamplesAnalysis"
   ]
  },
  {
   "cell_type": "code",
   "execution_count": null,
   "id": "0c0d1713-9bf8-466e-8dae-7b1680d0fe30",
   "metadata": {},
   "outputs": [],
   "source": [
    "sa_response = api_client.post(\"/samplesanalysis\", json=samples_analysis)\n",
    "\n",
    "pprint(sa_response.json())"
   ]
  },
  {
   "cell_type": "markdown",
   "id": "ac036f8b-b93e-4e50-84cf-6b5e9639939f",
   "metadata": {},
   "source": [
    "## Build & display parquet data"
   ]
  },
  {
   "cell_type": "code",
   "execution_count": null,
   "id": "589d670f-5332-4380-a731-625e5367fa59",
   "metadata": {},
   "outputs": [],
   "source": [
    "from utils import display_parquet\n",
    "from utils import build_parquet_from_json\n",
    "\n",
    "# Json and Parquet Paths\n",
    "gcms_alkanes_json_path = \"content_payloads/gcms_alkanes_orient_split.json\"\n",
    "multistageseparator_json_path = \"content_payloads/multistageseparator_orient_split.json\"\n",
    "multiple_salinity_json_path = \"content_payloads/multiple_salinity_orient_split.json\"\n",
    "nmr_json_path = \"content_payloads/nmr_orient_split.json\"\n",
    "\n",
    "gcms_alkanes_parquet_path = \"content_payloads/gcms_alkanes.parquet\"\n",
    "multistageseparator_parquet_path = \"content_payloads/multistageseparator.parquet\"\n",
    "multiple_salinity_parquet_path = \"content_payloads/multiple_salinity.parquet\"\n",
    "nmr_parquet_path = \"content_payloads/nmr.parquet\"\n",
    "\n",
    "# Build parquets\n",
    "build_parquet_from_json(gcms_alkanes_json_path, gcms_alkanes_parquet_path, conf[\"data_partition_id\"])\n",
    "build_parquet_from_json(multistageseparator_json_path, multistageseparator_parquet_path, conf[\"data_partition_id\"])\n",
    "build_parquet_from_json(multiple_salinity_json_path, multiple_salinity_parquet_path, conf[\"data_partition_id\"])\n",
    "build_parquet_from_json(nmr_json_path, nmr_parquet_path, conf[\"data_partition_id\"])\n"
   ]
  },
  {
   "cell_type": "markdown",
   "id": "035cc1af-6323-4b8b-bf2b-197d5a5587ec",
   "metadata": {},
   "source": [
    "## Post & Get MultiStageSeparator test data (Parquet format)"
   ]
  },
  {
   "cell_type": "code",
   "execution_count": null,
   "id": "3578573b-6bec-436c-b921-db19a67ce701",
   "metadata": {
    "scrolled": true
   },
   "outputs": [],
   "source": [
    "from utils import get_parquet_as_binary\n",
    "\n",
    "mss_wpc_id = f\"{conf['data_partition_id']}:work-product-component--SamplesAnalysis:MultiStageSeparatorTest_WPC\"\n",
    "parquet_headers = {\"Accept\": \"*/*;version=1.0.0\", \"Content-Type\": \"application/x-parquet\"}\n",
    "\n",
    "mss_data_response = api_client.post(\n",
    "    f\"/samplesanalysis/{mss_wpc_id}/data/multistageseparator\",\n",
    "    data=get_parquet_as_binary(multistageseparator_parquet_path), \n",
    "    headers=parquet_headers)\n",
    "\n",
    "pprint(mss_data_response.json())\n",
    "mss_dataset_id = mss_data_response.json()[\"ddms_urn\"].split(\"/\")[-2]\n",
    "print(mss_dataset_id)"
   ]
  },
  {
   "cell_type": "code",
   "execution_count": null,
   "id": "50914e98-48d5-4a8b-9a6e-8cb00cd530fe",
   "metadata": {},
   "outputs": [],
   "source": [
    "mss_get_data_response = api_client.get(\n",
    "    f\"/samplesanalysis/{mss_wpc_id}/data/multistageseparator/{mss_dataset_id}\", \n",
    "    headers=parquet_headers)\n",
    "\n",
    "print(mss_get_data_response.content[:300], \"...\")"
   ]
  },
  {
   "cell_type": "markdown",
   "id": "eb2a4d72-89d0-4f72-853a-f6bcfb10d805",
   "metadata": {},
   "source": [
    "### Get MultiStageSeparator test (Json format)"
   ]
  },
  {
   "cell_type": "code",
   "execution_count": null,
   "id": "463a9516-85f8-4bb4-bffd-7c1b6ba67aca",
   "metadata": {},
   "outputs": [],
   "source": [
    "json_headers = {\"Accept\": \"*/*;version=1.0.0\", \"Content-Type\": \"application/json\"}\n",
    "\n",
    "mss_get_data_response = api_client.get(\n",
    "    f\"/samplesanalysis/{mss_wpc_id}/data/multistageseparator/{mss_dataset_id}\", \n",
    "    headers=json_headers)\n",
    "\n",
    "print_json(mss_get_data_response.json())"
   ]
  },
  {
   "cell_type": "markdown",
   "id": "9eb4a117-ae38-474b-8206-f98ab435db5e",
   "metadata": {},
   "source": [
    "## Update Parquet Example (GCMS Alkanes)"
   ]
  },
  {
   "cell_type": "code",
   "execution_count": null,
   "id": "d0c488d1-6d6e-4744-abe4-3da3195524d6",
   "metadata": {},
   "outputs": [],
   "source": [
    "from utils import update_parquet, get_parquet_cell_value\n",
    "\n",
    "# Update SamplesAnalysisID\n",
    "update_parquet(\n",
    "    path=gcms_alkanes_parquet_path,\n",
    "    row_index=0,\n",
    "    column_name=\"SamplesAnalysisID\",\n",
    "    new_value=f\"{conf['data_partition_id']}:work-product-component--SamplesAnalysis:GCMS_Alkanes_WPC:\",\n",
    ")"
   ]
  },
  {
   "cell_type": "markdown",
   "id": "8bc44507-6c4f-4047-8c52-2e081009dccd",
   "metadata": {},
   "source": [
    "## Post & Get GCMS_Alkanes data (Parquet format)"
   ]
  },
  {
   "cell_type": "code",
   "execution_count": null,
   "id": "571635b3-8867-456b-811b-7ad4aa482af9",
   "metadata": {},
   "outputs": [],
   "source": [
    "from utils import get_parquet_as_binary\n",
    "\n",
    "gcms_alkanes_wpc_id = f\"{conf['data_partition_id']}:work-product-component--SamplesAnalysis:GCMS_Alkanes_WPC\"\n",
    "parquet_headers = {\"Accept\": \"*/*;version=1.0.0\", \"Content-Type\": \"application/x-parquet\"}\n",
    "\n",
    "gcms_alkanes_data_response = api_client.post(\n",
    "    f\"/samplesanalysis/{gcms_alkanes_wpc_id}/data/gcmsalkanes\",\n",
    "    data=get_parquet_as_binary(gcms_alkanes_parquet_path), \n",
    "    headers=parquet_headers)\n",
    "\n",
    "pprint(gcms_alkanes_data_response.json())\n",
    "gcms_alkanes_dataset_id = gcms_alkanes_data_response.json()[\"ddms_urn\"].split(\"/\")[-2]\n",
    "print(gcms_alkanes_dataset_id)"
   ]
  },
  {
   "cell_type": "code",
   "execution_count": null,
   "id": "46c95415-2e6b-44ba-bb46-e533df45b6d8",
   "metadata": {},
   "outputs": [],
   "source": [
    "gcms_alkanes_get_data_response = api_client.get(\n",
    "    f\"/samplesanalysis/{gcms_alkanes_wpc_id}/data/gcmsalkanes/{gcms_alkanes_dataset_id}\", \n",
    "    headers=parquet_headers)\n",
    "\n",
    "print(gcms_alkanes_get_data_response.content[:300], \"...\")"
   ]
  },
  {
   "cell_type": "markdown",
   "id": "606953f0-7e82-44b7-ba02-6c10728dd07d",
   "metadata": {},
   "source": [
    "## Get GCMS Alkanes (Json format)"
   ]
  },
  {
   "cell_type": "code",
   "execution_count": null,
   "id": "45d3ad72-d035-405d-a8b1-239a1992c6d5",
   "metadata": {},
   "outputs": [],
   "source": [
    "gcms_alkanes_wpc_id = f\"{conf['data_partition_id']}:work-product-component--SamplesAnalysis:GCMS_Alkanes_WPC\"\n",
    "json_headers = {\"Accept\": \"*/*;version=1.0.0\", \"Content-Type\": \"application/json\"}\n",
    "\n",
    "gcms_alkanes_get_data_response = api_client.get(\n",
    "    f\"/samplesanalysis/{gcms_alkanes_wpc_id}/data/gcmsalkanes/{gcms_alkanes_dataset_id}\", \n",
    "    headers=json_headers)\n",
    "\n",
    "print_json(gcms_alkanes_get_data_response.json())"
   ]
  },
  {
   "cell_type": "markdown",
   "id": "69856301-4055-4e3e-9925-4c8ea3ce9466",
   "metadata": {},
   "source": [
    "## Post & Get NMR test (Parquet format)"
   ]
  },
  {
   "cell_type": "code",
   "execution_count": null,
   "id": "06b2a6ce-c4a3-4c86-92da-8c0cc0178fde",
   "metadata": {},
   "outputs": [],
   "source": [
    "from utils import get_parquet_as_binary\n",
    "\n",
    "nmr_wpc_id = f\"{conf['data_partition_id']}:work-product-component--SamplesAnalysis:NMR_Test_WPC\"\n",
    "headers = {\"Accept\": \"*/*;version=1.0.0\", \"Content-Type\": \"application/x-parquet\"}\n",
    "\n",
    "nmr_data_response = api_client.post(\n",
    "    f\"/samplesanalysis/{nmr_wpc_id}/data/nmr\",\n",
    "    data=get_parquet_as_binary(nmr_parquet_path), \n",
    "    headers=headers)\n",
    "\n",
    "pprint(nmr_data_response.json())\n",
    "nmr_dataset_id = nmr_data_response.json()[\"ddms_urn\"].split(\"/\")[-2]\n",
    "print(nmr_dataset_id)"
   ]
  },
  {
   "cell_type": "code",
   "execution_count": null,
   "id": "e8cf3096-fa46-438b-8630-2cfd94b77c7c",
   "metadata": {},
   "outputs": [],
   "source": [
    "nmr_data_response = api_client.get(\n",
    "    f\"/samplesanalysis/{nmr_wpc_id}/data/nmrtests/{nmr_dataset_id}\", \n",
    "    headers=headers)\n",
    "\n",
    "print(nmr_data_response.content[:300], \"...\")"
   ]
  },
  {
   "cell_type": "markdown",
   "id": "e93776a4-4aa7-4a8c-b405-976635e3bd19",
   "metadata": {},
   "source": [
    "## Get NMR test (Json format)"
   ]
  },
  {
   "cell_type": "code",
   "execution_count": null,
   "id": "fed0f526-a86c-49a8-b61b-033563da16ce",
   "metadata": {},
   "outputs": [],
   "source": [
    "json_headers = {\"Accept\": \"*/*;version=1.0.0\", \"Content-Type\": \"application/json\"}\n",
    "\n",
    "nmr_get_data_response = api_client.get(\n",
    "    f\"/samplesanalysis/{nmr_wpc_id}/data/nmr/{nmr_dataset_id}\", \n",
    "    headers=json_headers)\n",
    "\n",
    "print_json(nmr_get_data_response.json())"
   ]
  },
  {
   "cell_type": "markdown",
   "id": "c7f168be-1715-43f9-aa45-d0a87c994f9e",
   "metadata": {},
   "source": [
    "### Post & Get MultipleSalinity data (Json Format)"
   ]
  },
  {
   "cell_type": "code",
   "execution_count": null,
   "id": "a817a084-d10d-45af-a5cc-63d26628ce48",
   "metadata": {},
   "outputs": [],
   "source": [
    "import json\n",
    "\n",
    "with open(\"content_payloads/multiple_salinity_orient_split.json\") as fp:\n",
    "    multiple_salinity_test_json_data = json.loads(fp.read().replace(\"{data_partition_id}\", conf[\"data_partition_id\"]))\n",
    "    \n",
    "\n",
    "multiple_salinity_wpc_id = f\"{conf['data_partition_id']}:work-product-component--SamplesAnalysis:MultipleSalinity_Test_WPC\"\n",
    "accept_header = {\"Accept\": \"*/*;version=1.0.0\"}\n",
    "multiple_salinity_data_response = api_client.post(\n",
    "    f\"/samplesanalysis/{multiple_salinity_wpc_id}/data/multiplesalinitytests\",\n",
    "    json=multiple_salinity_test_json_data, \n",
    "    headers=accept_header)\n",
    "\n",
    "pprint(multiple_salinity_data_response.json())\n",
    "multiple_salinity_dataset_id = multiple_salinity_data_response.json()[\"ddms_urn\"].split(\"/\")[-2]\n",
    "print(multiple_salinity_dataset_id)"
   ]
  },
  {
   "cell_type": "code",
   "execution_count": null,
   "id": "ad4a236e-0f87-49ab-9ac2-64438afb992f",
   "metadata": {},
   "outputs": [],
   "source": [
    "multiple_salinity_data_response = api_client.get(\n",
    "    f\"/samplesanalysis/{multiple_salinity_wpc_id}/data/multiplesalinitytests/{multiple_salinity_dataset_id}\", \n",
    "    headers=accept_header)\n",
    "\n",
    "print_json(multiple_salinity_data_response.json())"
   ]
  },
  {
   "cell_type": "code",
   "execution_count": null,
   "id": "c3e00639-3c0a-4fb2-9040-86491791e309",
   "metadata": {},
   "outputs": [],
   "source": []
  }
 ],
 "metadata": {
  "kernelspec": {
   "display_name": "Python 3 (ipykernel)",
   "language": "python",
   "name": "python3"
  },
  "language_info": {
   "codemirror_mode": {
    "name": "ipython",
    "version": 3
   },
   "file_extension": ".py",
   "mimetype": "text/x-python",
   "name": "python",
   "nbconvert_exporter": "python",
   "pygments_lexer": "ipython3",
   "version": "3.11.9"
  }
 },
 "nbformat": 4,
 "nbformat_minor": 5
}
